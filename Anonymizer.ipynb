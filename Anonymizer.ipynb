{
 "cells": [
  {
   "cell_type": "code",
   "execution_count": 157,
   "id": "7e77277f",
   "metadata": {},
   "outputs": [],
   "source": [
    "import mediapipe as mp\n",
    "mp_holistic = mp.solutions.holistic\n",
    "# Import drawing_utils and drawing_styles.\n",
    "mp_drawing = mp.solutions.drawing_utils \n",
    "mp_drawing_styles = mp.solutions.drawing_styles"
   ]
  },
  {
   "cell_type": "code",
   "execution_count": null,
   "id": "f1a55f8f",
   "metadata": {},
   "outputs": [],
   "source": []
  },
  {
   "cell_type": "code",
   "execution_count": 158,
   "id": "06e8e5bf",
   "metadata": {},
   "outputs": [],
   "source": [
    "import cv2\n",
    "import math\n",
    "import numpy as np\n",
    "\n",
    "DESIRED_HEIGHT = 480\n",
    "DESIRED_WIDTH = 480\n",
    "def resize_and_show(image):\n",
    "    h, w = image.shape[:2]\n",
    "    if h < w:\n",
    "        img = cv2.resize(image, (DESIRED_WIDTH, math.floor(h/(w/DESIRED_WIDTH))))\n",
    "    else:\n",
    "        img = cv2.resize(image, (math.floor(w/(h/DESIRED_HEIGHT)), DESIRED_HEIGHT))\n",
    "    cv2.imshow(\"resizedimage\", image)\n",
    "    #waits for user to press any key \n",
    "    #(this is necessary to avoid Python kernel form crashing)\n",
    "    cv2.waitKey(0) \n",
    "    #closing all open windows \n",
    "    cv2.destroyAllWindows() \n",
    "\n",
    "image = cv2.imread(\"D://MultimodalOpenScienceTool//Image//example.jpg\")\n",
    "resize_and_show(image)\n",
    "\n",
    "images = [image]"
   ]
  },
  {
   "cell_type": "code",
   "execution_count": null,
   "id": "7e1853e6",
   "metadata": {},
   "outputs": [],
   "source": []
  },
  {
   "cell_type": "code",
   "execution_count": 175,
   "id": "0bacb5bf",
   "metadata": {},
   "outputs": [],
   "source": [
    "# Run MediaPipe Holistic with `enable_segmentation=True` to get pose segmentation.\n",
    "with mp_holistic.Holistic(\n",
    "        static_image_mode=True, enable_segmentation=True, refine_face_landmarks=True) as holistic:\n",
    "    for image in images:\n",
    "        results = holistic.process(cv2.cvtColor(image, cv2.COLOR_BGR2RGB))\n",
    "        # Draw pose segmentation.\n",
    "        annotated_image = image.copy()        \n",
    "        original_image = np.concatenate([annotated_image, np.full((h, w, 1), 255, dtype=np.uint8)], axis=-1)\n",
    "        red_img = np.zeros_like(annotated_image, dtype=np.uint8)\n",
    "        red_img[:, :] = (255,255,255)\n",
    "        segm_2class = 0.2 + 0.8 * results.segmentation_mask\n",
    "        segm_2class = np.repeat(segm_2class[..., np.newaxis], 3, axis=2)\n",
    "        annotated_image = annotated_image * segm_2class * (1 - segm_2class)\n",
    "        mp_drawing.draw_landmarks(annotated_image, results.left_hand_landmarks, mp_holistic.HAND_CONNECTIONS)\n",
    "        mp_drawing.draw_landmarks(annotated_image, results.right_hand_landmarks, mp_holistic.HAND_CONNECTIONS)\n",
    "        mp_drawing.draw_landmarks(\n",
    "                annotated_image,\n",
    "                results.face_landmarks,\n",
    "                mp_holistic.FACEMESH_TESSELATION,\n",
    "                landmark_drawing_spec=None,\n",
    "                connection_drawing_spec=mp_drawing_styles\n",
    "                .get_default_face_mesh_tesselation_style())\n",
    "        mp_drawing.draw_landmarks(\n",
    "                annotated_image,\n",
    "                results.pose_landmarks,\n",
    "                mp_holistic.POSE_CONNECTIONS,\n",
    "                landmark_drawing_spec=mp_drawing_styles.\n",
    "                get_default_pose_landmarks_style())\n",
    "                # get the image dimensions (height, width and channels)\n",
    "        h, w, c = annotated_image.shape\n",
    "        # append Alpha channel -- required for BGRA (Blue, Green, Red, Alpha)\n",
    "        mask = np.concatenate([annotated_image, np.full((h, w, 1), 255, dtype=np.uint8)], axis=-1)\n",
    "        cv2.imshow(\"resizedimage\", mask)\n",
    "        #waits for user to press any key \n",
    "        #(this is necessary to avoid Python kernel form crashing)\n",
    "        cv2.waitKey(0) \n",
    "        #closing all open windows \n",
    "        cv2.destroyAllWindows() "
   ]
  },
  {
   "cell_type": "code",
   "execution_count": 170,
   "id": "78486366",
   "metadata": {},
   "outputs": [
    {
     "data": {
      "text/plain": [
       "array([[[  8.4800005,   6.7200007,   7.2000003, 255.       ],\n",
       "        [  8.320001 ,   6.56     ,   7.0400004, 255.       ],\n",
       "        [  8.320001 ,   6.56     ,   7.0400004, 255.       ],\n",
       "        ...,\n",
       "        [  5.1200004,   5.1200004,   6.08     , 255.       ],\n",
       "        [  4.8      ,   4.8      ,   5.76     , 255.       ],\n",
       "        [  4.9600005,   4.9600005,   5.92     , 255.       ]],\n",
       "\n",
       "       [[ 15.2      ,  13.4400015,  13.92     , 255.       ],\n",
       "        [ 15.040001 ,  13.280001 ,  13.760001 , 255.       ],\n",
       "        [ 15.040001 ,  13.280001 ,  13.760001 , 255.       ],\n",
       "        ...,\n",
       "        [ 10.88     ,  10.88     ,  11.84     , 255.       ],\n",
       "        [ 10.56     ,  10.56     ,  11.52     , 255.       ],\n",
       "        [ 10.72     ,  10.72     ,  11.68     , 255.       ]],\n",
       "\n",
       "       [[ 13.12     ,  11.36     ,  11.84     , 255.       ],\n",
       "        [ 12.960001 ,  11.2      ,  11.68     , 255.       ],\n",
       "        [ 12.960001 ,  11.2      ,  11.68     , 255.       ],\n",
       "        ...,\n",
       "        [  8.8      ,   8.8      ,   9.76     , 255.       ],\n",
       "        [  8.64     ,   8.64     ,   9.6      , 255.       ],\n",
       "        [  8.8      ,   8.8      ,   9.76     , 255.       ]],\n",
       "\n",
       "       ...,\n",
       "\n",
       "       [[  9.600001 ,   8.640001 ,   9.4400015, 255.       ],\n",
       "        [  9.920001 ,   8.960001 ,   9.760001 , 255.       ],\n",
       "        [  9.920001 ,   9.120001 ,   9.4400015, 255.       ],\n",
       "        ...,\n",
       "        [  1.12     ,   1.12     ,   1.12     , 255.       ],\n",
       "        [  1.2800001,   1.2800001,   1.2800001, 255.       ],\n",
       "        [  1.12     ,   1.12     ,   1.12     , 255.       ]],\n",
       "\n",
       "       [[ 11.840001 ,  10.880001 ,  11.680001 , 255.       ],\n",
       "        [ 11.520001 ,  10.56     ,  11.360002 , 255.       ],\n",
       "        [ 11.520001 ,  10.720001 ,  11.040001 , 255.       ],\n",
       "        ...,\n",
       "        [  2.24     ,   2.24     ,   2.24     , 255.       ],\n",
       "        [  2.4      ,   2.4      ,   2.4      , 255.       ],\n",
       "        [  2.5600002,   2.5600002,   2.5600002, 255.       ]],\n",
       "\n",
       "       [[ 19.520002 ,  18.560003 ,  19.360003 , 255.       ],\n",
       "        [ 19.680002 ,  18.720001 ,  19.520002 , 255.       ],\n",
       "        [ 20.320002 ,  19.520002 ,  19.840002 , 255.       ],\n",
       "        ...,\n",
       "        [  5.28     ,   5.28     ,   5.28     , 255.       ],\n",
       "        [  5.6      ,   5.6      ,   5.6      , 255.       ],\n",
       "        [  5.92     ,   5.92     ,   5.92     , 255.       ]]],\n",
       "      dtype=float32)"
      ]
     },
     "execution_count": 170,
     "metadata": {},
     "output_type": "execute_result"
    }
   ],
   "source": [
    "mask"
   ]
  },
  {
   "cell_type": "code",
   "execution_count": 141,
   "id": "8a25bd1f",
   "metadata": {},
   "outputs": [
    {
     "data": {
      "text/plain": [
       "array([[ True,  True,  True, ...,  True,  True,  True],\n",
       "       [ True,  True,  True, ...,  True,  True,  True],\n",
       "       [ True,  True,  True, ...,  True,  True,  True],\n",
       "       ...,\n",
       "       [ True,  True,  True, ...,  True,  True,  True],\n",
       "       [ True,  True,  True, ...,  True,  True,  True],\n",
       "       [ True,  True,  True, ...,  True,  True,  True]])"
      ]
     },
     "execution_count": 141,
     "metadata": {},
     "output_type": "execute_result"
    }
   ],
   "source": []
  },
  {
   "cell_type": "code",
   "execution_count": null,
   "id": "46c07cc4",
   "metadata": {},
   "outputs": [],
   "source": []
  }
 ],
 "metadata": {
  "kernelspec": {
   "display_name": "Python 3 (ipykernel)",
   "language": "python",
   "name": "python3"
  },
  "language_info": {
   "codemirror_mode": {
    "name": "ipython",
    "version": 3
   },
   "file_extension": ".py",
   "mimetype": "text/x-python",
   "name": "python",
   "nbconvert_exporter": "python",
   "pygments_lexer": "ipython3",
   "version": "3.9.7"
  }
 },
 "nbformat": 4,
 "nbformat_minor": 5
}
